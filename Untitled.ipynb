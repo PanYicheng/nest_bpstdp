{
 "cells": [
  {
   "cell_type": "code",
   "execution_count": 1,
   "metadata": {},
   "outputs": [
    {
     "name": "stderr",
     "output_type": "stream",
     "text": [
      "/usr/local/lib/python3.5/dist-packages/h5py/__init__.py:36: FutureWarning: Conversion of the second argument of issubdtype from `float` to `np.floating` is deprecated. In future, it will be treated as `np.float64 == np.dtype(float).type`.\n",
      "  from ._conv import register_converters as _register_converters\n"
     ]
    }
   ],
   "source": [
    "import numpy as np\n",
    "import cv2\n",
    "import time\n",
    "import nest\n",
    "import h5py\n",
    "import os\n",
    "from matplotlib import pyplot as plt\n",
    "\n",
    "\n",
    "mnist_dir = \"/data/mnist/\"\n",
    "height = 28\n",
    "width = 28"
   ]
  },
  {
   "cell_type": "raw",
   "metadata": {},
   "source": [
    "print(height)"
   ]
  },
  {
   "cell_type": "code",
   "execution_count": 2,
   "metadata": {},
   "outputs": [],
   "source": [
    "path = \"/opt/pycharm/PycharmProjects/nest/HDF5_MNIST_TRAIN.h5\""
   ]
  },
  {
   "cell_type": "code",
   "execution_count": 3,
   "metadata": {},
   "outputs": [
    {
     "data": {
      "text/plain": [
       "'/opt/pycharm/PycharmProjects/nest/HDF5_MNIST_TRAIN.h5'"
      ]
     },
     "execution_count": 3,
     "metadata": {},
     "output_type": "execute_result"
    }
   ],
   "source": [
    "path"
   ]
  },
  {
   "cell_type": "code",
   "execution_count": 4,
   "metadata": {},
   "outputs": [],
   "source": [
    "f = h5py.File(path)\n",
    "img = f[\"img\"][:]\n",
    "label = f[\"label\"][:]\n",
    "f.close()"
   ]
  },
  {
   "cell_type": "code",
   "execution_count": 5,
   "metadata": {},
   "outputs": [],
   "source": [
    "input_layer_size = 784\n",
    "hidden_layer_size = 100\n",
    "output_layer_size = 10\n",
    "base_frequency = 100\n",
    "target_frequency = 100\n",
    "sim_time = 100\n",
    "episislon = 10\n",
    "learning_rate = 300"
   ]
  },
  {
   "cell_type": "code",
   "execution_count": 7,
   "metadata": {},
   "outputs": [],
   "source": [
    "nest.ResetKernel()\n",
    "input_neurons = nest.Create(\"poisson_generator\",input_layer_size)\n",
    "hidden_neurons = nest.Create(\"iaf_psc_alpha\", hidden_layer_size)\n",
    "spike_dectector_hidden = nest.Create(\"spike_detector\", hidden_layer_size)\n",
    "output_neurons = nest.Create(\"iaf_psc_alpha\", output_layer_size)\n",
    "spike_dectector_output = nest.Create(\"spike_detector\",output_layer_size)\n",
    "nest.Connect(input_neurons, hidden_neurons, \"all_to_all\", syn_spec={\"model\":\"static_synapse\",\n",
    "                                                                                      \"weight\":{\"distribution\":\"normal\",\n",
    "                                                                                                \"mu\":10.0,\n",
    "                                                                                                \"sigma\":5.0}})\n",
    "nest.Connect(hidden_neurons, output_neurons, \"all_to_all\", syn_spec={\"model\":\"static_synapse\",\n",
    "                                                                                       \"weight\":{\"distribution\":\"normal\",\n",
    "                                                                                                 \"mu\":10.0,\n",
    "                                                                                                 \"sigma\":5.0}})\n",
    "nest.Connect(output_neurons, spike_dectector_output, \"one_to_one\")\n",
    "nest.Connect(hidden_neurons, spike_dectector_hidden, 'one_to_one')"
   ]
  },
  {
   "cell_type": "code",
   "execution_count": 8,
   "metadata": {},
   "outputs": [
    {
     "name": "stdout",
     "output_type": "stream",
     "text": [
      "current img label: 5\n"
     ]
    },
    {
     "data": {
      "image/png": "[encoded data removed]",
      "text/plain": [
       "<Figure size 432x288 with 1 Axes>"
      ]
     },
     "metadata": {},
     "output_type": "display_data"
    }
   ],
   "source": [
    "img_ct = 0\n",
    "disp_img = np.zeros((height,width))\n",
    "disp_img = img[img_ct]\n",
    "plt.imshow(disp_img)\n",
    "img_array = img[img_ct].flatten()\n",
    "one_label = label[img_ct]\n",
    "print(\"current img label:\",one_label)\n",
    "nest.ResetNetwork()\n",
    "nest.SetKernelStatus({\"time\":0.0})\n",
    "nest.SetStatus(input_neurons,[{\"rate\":i / 255.0 * base_frequency} for i in img_array])"
   ]
  },
  {
   "cell_type": "code",
   "execution_count": 23,
   "metadata": {},
   "outputs": [],
   "source": [
    "nest.Simulate(sim_time )"
   ]
  },
  {
   "cell_type": "code",
   "execution_count": 25,
   "metadata": {},
   "outputs": [],
   "source": [
    "sd_status_output = nest.GetStatus(spike_dectector_output)\n",
    "sd_status_hidden = nest.GetStatus(spike_dectector_hidden)"
   ]
  },
  {
   "cell_type": "code",
   "execution_count": 26,
   "metadata": {},
   "outputs": [
    {
     "name": "stdout",
     "output_type": "stream",
     "text": [
      "    Weight Update Time: 12.803929328918457 s\n",
      "5 , 0.484375\n",
      "  output events: [4, 4, 5, 5, 4, 31, 2, 3, 2, 4]\n"
     ]
    }
   ],
   "source": [
    "# hidden_error is backpropagated from output layer\n",
    "start_time = time.time()       \n",
    "hidden_error = np.zeros(hidden_layer_size)\n",
    "for output_neuron_id in range(output_layer_size):\n",
    "    # z_j = 1 , check r_i\n",
    "    ksai = 0.0\n",
    "    if( output_neuron_id == one_label ):\n",
    "        if(sd_status_output[output_neuron_id][\"n_events\"] == 0):\n",
    "            ksai = 1.0\n",
    "    else:\n",
    "        if (sd_status_output[output_neuron_id][\"n_events\"] != 0):\n",
    "            ksai = -1.0\n",
    "    for hidden_neuron_id in range(hidden_layer_size):\n",
    "        spike_sum = sd_status_hidden[hidden_neuron_id][\"n_events\"]\n",
    "        delta_weight = learning_rate * spike_sum * ksai\n",
    "        conn = nest.GetConnections([hidden_neurons[hidden_neuron_id]],\n",
    "                                   [output_neurons[output_neuron_id]])\n",
    "        old_weight = nest.GetStatus(conn)[0][\"weight\"]\n",
    "        nest.SetStatus(conn,params={\"weight\":old_weight+delta_weight})\n",
    "\n",
    "        hidden_error[hidden_neuron_id] += ksai * old_weight\n",
    "for hidden_neuron_id in range(hidden_layer_size):\n",
    "    if(sd_status_hidden[hidden_neuron_id][\"n_events\"] > 0):\n",
    "        for input_neuron_id in range(input_layer_size):\n",
    "            sigma_s_j = nest.GetStatus([input_neurons[input_neuron_id]])[0]['rate'] * sim_time\n",
    "            delta_weight = learning_rate*hidden_error[hidden_neuron_id]*sigma_s_j\n",
    "            conn = nest.GetConnections([input_neurons[input_neuron_id]],\n",
    "                                       [hidden_neurons[hidden_neuron_id]])\n",
    "            old_weight = nest.GetStatus(conn)[0][\"weight\"]\n",
    "            nest.SetStatus(conn,params={\"weight\":old_weight+delta_weight})\n",
    "max_index = 0\n",
    "total_spikes = sd_status_output[max_index][\"n_events\"]\n",
    "events = [sd_status_output[max_index][\"n_events\"]]\n",
    "for output_neuron_id in range(1,output_layer_size):\n",
    "    if(sd_status_output[output_neuron_id][\"n_events\"] > sd_status_output[max_index][\"n_events\"]):\n",
    "        max_index = output_neuron_id\n",
    "    total_spikes += sd_status_output[output_neuron_id][\"n_events\"]\n",
    "    events.append(sd_status_output[output_neuron_id][\"n_events\"])\n",
    "if (total_spikes == 0):\n",
    "    possiblity = 1\n",
    "else:\n",
    "    possiblity = sd_status_output[max_index][\"n_events\"] / total_spikes\n",
    "end_time = time.time()\n",
    "print(\"    Weight Update Time:\",end_time-start_time,\"s\")\n",
    "print(max_index,\",\",possiblity)\n",
    "print(\"  output events:\",events)"
   ]
  },
  {
   "cell_type": "code",
   "execution_count": 27,
   "metadata": {},
   "outputs": [
    {
     "data": {
      "image/png": "[encoded data removed]",
      "text/plain": [
       "<Figure size 432x288 with 1 Axes>"
      ]
     },
     "metadata": {},
     "output_type": "display_data"
    }
   ],
   "source": [
    "# sd_status_hidden[1][\"events\"]\n",
    "for i in range(100):\n",
    "    x = sd_status_hidden[i][\"events\"][\"times\"]\n",
    "    y = np.ones((len(x))) * i\n",
    "    plt.plot(x,y,'.')\n",
    "plt.show()"
   ]
  },
  {
   "cell_type": "code",
   "execution_count": 28,
   "metadata": {},
   "outputs": [
    {
     "data": {
      "image/png": "[encoded data removed]",
      "text/plain": [
       "<Figure size 432x288 with 1 Axes>"
      ]
     },
     "metadata": {},
     "output_type": "display_data"
    }
   ],
   "source": [
    "for i in range(10):\n",
    "    x = sd_status_output[i][\"events\"][\"times\"]\n",
    "    y = np.ones((len(x))) * i\n",
    "    plt.plot(x,y,'.')\n",
    "plt.show()"
   ]
  },
  {
   "cell_type": "code",
   "execution_count": null,
   "metadata": {},
   "outputs": [],
   "source": [
    "nest.GetKernelStatus()\n",
    "nest.SetKernelStatus({\"time\":0.0})"
   ]
  },
  {
   "cell_type": "code",
   "execution_count": null,
   "metadata": {
    "scrolled": true
   },
   "outputs": [],
   "source": [
    "nest.GetKernelStatus()"
   ]
  },
  {
   "cell_type": "code",
   "execution_count": null,
   "metadata": {},
   "outputs": [],
   "source": [
    "nest.GetStatus(spike_dectector_output)[0]"
   ]
  }
 ],
 "metadata": {
  "kernelspec": {
   "display_name": "Python 3",
   "language": "python",
   "name": "python3"
  },
  "language_info": {
   "codemirror_mode": {
    "name": "ipython",
    "version": 3
   },
   "file_extension": ".py",
   "mimetype": "text/x-python",
   "name": "python",
   "nbconvert_exporter": "python",
   "pygments_lexer": "ipython3",
   "version": "3.5.2"
  }
 },
 "nbformat": 4,
 "nbformat_minor": 2
}
